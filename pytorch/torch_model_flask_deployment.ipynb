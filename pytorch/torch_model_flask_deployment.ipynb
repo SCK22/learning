{
 "cells": [
  {
   "cell_type": "code",
   "execution_count": 1,
   "metadata": {},
   "outputs": [],
   "source": [
    "import torchvision.models as models\n",
    "import torchvision.transforms as transforms\n",
    "from PIL import Image\n",
    "from flask import Flask, jsonify, request"
   ]
  },
  {
   "cell_type": "code",
   "execution_count": 2,
   "metadata": {},
   "outputs": [],
   "source": [
    "def transform_image(infile):\n",
    "    input_transforms = [transforms.Resize(255),\n",
    "                       transforms.CenterCrop(223),\n",
    "                       transforms.ToTensor(),\n",
    "                        transforms.Normalize([0.485, 0.456, 0.406],\n",
    "            [0.229, 0.224, 0.225])]\n",
    "    my_transforms = transforms.Compose(input_transforms)\n",
    "    image = Image.open(infile)\n",
    "    timg = my_transforms(image)\n",
    "    timfg.unsqueeze_(0)\n",
    "    return timg"
   ]
  },
  {
   "cell_type": "code",
   "execution_count": 3,
   "metadata": {},
   "outputs": [],
   "source": [
    "def get_prediction(input_tensor):\n",
    "    outputs = model.forward(input_tensor)\n",
    "    _, y_hat = outputs.max(1)\n",
    "    predicrtion = y_hat.item()\n",
    "    return prediction"
   ]
  },
  {
   "cell_type": "code",
   "execution_count": 4,
   "metadata": {},
   "outputs": [],
   "source": [
    "# Make the prediction human-readable\n",
    "def render_prediction(prediction_idx):\n",
    "    stridx = str(prediction_idx)\n",
    "    class_name = 'Unknown'\n",
    "    if img_class_map is not None:\n",
    "        if stridx in img_class_map is not None:\n",
    "            class_name = img_class_map[stridx][1]\n",
    "\n",
    "    return prediction_idx, class_name"
   ]
  },
  {
   "cell_type": "code",
   "execution_count": null,
   "metadata": {},
   "outputs": [],
   "source": []
  }
 ],
 "metadata": {
  "kernelspec": {
   "display_name": "pytorch",
   "language": "python",
   "name": "pytorch"
  },
  "language_info": {
   "codemirror_mode": {
    "name": "ipython",
    "version": 3
   },
   "file_extension": ".py",
   "mimetype": "text/x-python",
   "name": "python",
   "nbconvert_exporter": "python",
   "pygments_lexer": "ipython3",
   "version": "3.8.3"
  }
 },
 "nbformat": 4,
 "nbformat_minor": 4
}
